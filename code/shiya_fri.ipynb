{
 "metadata": {
  "name": "",
  "signature": "sha256:9223037dc56ec3f6f47bcba2ba0a58b325f1dc63256551113361108a3356f962"
 },
 "nbformat": 3,
 "nbformat_minor": 0,
 "worksheets": [
  {
   "cells": [
    {
     "cell_type": "code",
     "collapsed": false,
     "input": [
      "import pandas as pd # pandas\n",
      "import numpy as np\n",
      "import matplotlib.pyplot as plt # module for plotting \n",
      "%matplotlib inline \n",
      "\n",
      "data = [pd.read_csv('http://api.qdatum.io/v1/pull/' + str(i) +'?format=tsv', sep='\\t') for i in range(1, 17)]\n",
      "names = ['SDR LOCATIONS AFRICA', 'SUB-NATIONAL TIME SERIES DATA ON EBOLA CASES', 'REDCROSS OFFICIAL DATASET', 'WEST AFRICA EBOLA MOVEMENT RESTRICTIONS', 'EBOLA TREATMENT CENTRES, ISOLATION WARDS HOSPITALS AND TRANSIT CENTRES', 'SUB-NATIONAL INDICATORS EBOLA COUNTRIES', 'FOOD PRICES DATASETS FOR THE EBOLA-AFFECTED COUNTRIES', 'LIBERIA POPULATION - BY COUNTY', 'LIBERIA POPULATED PLACES 2011', 'LIBERIA EDUCATIONAL FACILTIES UNDP LIBGOV 2007', 'LIBERIA POLICESTATIONS', ' LIBERIA HEALTH FACILITIES UNDP LIBGOV 2007', 'ALL HEALTH FACILITIES (2010)', 'MARKET CENTERS', 'LIBERIA_RELIGIOUS_INSTITUTIONS', 'RICE PRODUCTION (2006-07)']\n",
      "data = {names[i]: data[i] for i in range(0, 16)}"
     ],
     "language": "python",
     "metadata": {},
     "outputs": [
      {
       "output_type": "stream",
       "stream": "stderr",
       "text": [
        "/Users/Shiya/anaconda/lib/python2.7/site-packages/pandas/io/parsers.py:1139: DtypeWarning: Columns (1,2,4,5,9,11) have mixed types. Specify dtype option on import or set low_memory=False.\n",
        "  data = self._reader.read(nrows)\n"
       ]
      }
     ],
     "prompt_number": 1
    },
    {
     "cell_type": "code",
     "collapsed": false,
     "input": [
      "type(data)"
     ],
     "language": "python",
     "metadata": {},
     "outputs": [
      {
       "metadata": {},
       "output_type": "pyout",
       "prompt_number": 2,
       "text": [
        "dict"
       ]
      }
     ],
     "prompt_number": 2
    },
    {
     "cell_type": "code",
     "collapsed": false,
     "input": [
      "west_africa = data[names[3]]\n",
      "treat_centers = data[names[4]]\n",
      "sub_nat = data[names[5]]\n",
      "pop_places = data[names[8]]\n",
      "police = data[names[10]]\n",
      "health = data[names[11]]\n",
      "all_health = data[names[12]]\n",
      "markets = data[names[13]]\n",
      "religion = data[names[14]]\n",
      "rice = data[names[15]]"
     ],
     "language": "python",
     "metadata": {},
     "outputs": [],
     "prompt_number": 14
    },
    {
     "cell_type": "code",
     "collapsed": false,
     "input": [
      "print police.columns.values\n",
      "print health.columns.values\n",
      "print all_health.columns.values\n",
      "print markets.columns.values\n",
      "print religion.columns.values\n",
      "print rice.columns.values\n",
      "print sub_nat.columns.values"
     ],
     "language": "python",
     "metadata": {},
     "outputs": [
      {
       "output_type": "stream",
       "stream": "stdout",
       "text": [
        "['ADMINLVL' 'AGRIC' 'BUSH_FOOD' 'CCODE2K4' 'DCODE_2K4' 'DRY' 'FID'\n",
        " 'FOOD_SEC' 'HEALTH' 'HEA_FUNCT' 'HHLD' 'IDP' 'KINDS_OF_F' 'NAME_WS'\n",
        " 'NO__OF_PRO' 'OID1' 'OID_' 'POLICE_STA' 'POP' 'P_CODE' 'P_CODE_1'\n",
        " 'P_CODE_12' 'QC_GEO_WS' 'RETURN_' 'SCHOOL' 'SCH_FUNCT' 'SIZE' 'STATUS'\n",
        " 'TRAV_TIME' 'WET' 'X_COORD' 'Y_COORD' 'OBJECTID' 'geometry' 'country_code'\n",
        " 'sdr_id' 'sdr_name' 'sdr_level']\n",
        "['ADMINLVL' 'AGRIC' 'BUSH_FOOD' 'CCODE2K4' 'DCODE_2K4' 'DRY' 'FID'\n",
        " 'FOOD_SEC' 'HEALTH' 'HEA_FUNCT' 'HHLD' 'IDP' 'NAME_WS' 'NAME_WS_1' 'OID_'\n",
        " 'POP' 'P_CODE' 'P_CODE_1' 'QC_GEO_WS' 'RETURN_' 'SCHOOL' 'SCH_FUNCT'\n",
        " 'SIZE' 'TRAV_TIME' 'WET' 'X_COORD' 'Y_COORD' 'OBJECTID' 'geometry'\n",
        " 'country_code' 'sdr_id' 'sdr_name' 'sdr_level']\n",
        "['Are_PMTCT' 'Attribute1' 'Attribute2' 'Attribute3' 'Contacts' 'County'\n",
        " 'CreationDate' 'Creator' 'Deaths' 'District' 'Do_facilit' 'EditDate'\n",
        " 'Editor' 'Facility_I' 'Funding' 'GOL_facili' 'GlobalID' 'HIV_care_a'\n",
        " 'Head_Docto' 'Lat' 'Lon' 'Patients' 'Which_cell' 'X_PROJ' 'Y_PROJ'\n",
        " 'a_TB_diagn' 'beds' 'facility_n' 'facility_t' 'OBJECTID' 'geometry'\n",
        " 'country_code' 'sdr_id' 'sdr_name' 'sdr_level']\n",
        "['latitude' 'longitude' 'market_cen' 'OBJECTID' 'geometry']\n",
        "['ADM0_NAME' 'ADM1_NAME' 'ADM2_NAME' 'CITY' 'COMMENTS' 'CONF_IMAGE'\n",
        " 'GLOBALID' 'IMGNAME' 'ISO3' 'NAME' 'SOURCE' 'SOURCE2' 'SOURCE2_DT'\n",
        " 'SOURCE_DT' 'SPA_ACC' 'TYPE' 'OBJECTID' 'country_code' 'sdr_id' 'sdr_name'\n",
        " 'sdr_level']\n",
        "['ISO' 'Metric_ton' 'NAME_0' 'NAME_1' 'NAME_2' 'TYPE_2' 'OBJECTID'\n",
        " 'geometry' 'country_code' 'sdr_id' 'sdr_name' 'sdr_level']\n",
        "['pos' 'country_code' 'iso_code' 'country' 'year' 'gdlcode' 'region' 'iwi'\n",
        " 'edyr' 'edyr_fem' 'edyr_male' 'urban' 'wrk_agr' 'wrk_lnagr' 'wrk_unagr'\n",
        " 'tv' 'phone' 'electr' 'small_house' 'large_house' 'qual_floor' 'bad_floor'\n",
        " 'tap_water' 'bad_water' 'flush_toilet' 'bad_toilet' 'age09' 'age1019'\n",
        " 'age2029' 'age3039' 'age4049' 'age5059' 'age6069' 'age7079' 'age8089'\n",
        " 'age90hi' 'N' 'Nhh' 'sdr_id' 'sdr_name' 'sdr_level']\n"
       ]
      }
     ],
     "prompt_number": 15
    },
    {
     "cell_type": "code",
     "collapsed": false,
     "input": [
      "len(sub_nat['sdr_id'].unique())"
     ],
     "language": "python",
     "metadata": {},
     "outputs": [
      {
       "metadata": {},
       "output_type": "pyout",
       "prompt_number": 26,
       "text": [
        "50"
       ]
      }
     ],
     "prompt_number": 26
    },
    {
     "cell_type": "code",
     "collapsed": false,
     "input": [
      "sorted(sub_nat[sub_nat.country == 'Guinea']['region'])"
     ],
     "language": "python",
     "metadata": {},
     "outputs": [
      {
       "metadata": {},
       "output_type": "pyout",
       "prompt_number": 56,
       "text": [
        "['Boke',\n",
        " 'Conakry',\n",
        " 'Faranah',\n",
        " 'Kankan',\n",
        " 'Kindia',\n",
        " 'Labe',\n",
        " 'Mamou',\n",
        " 'N Zerekore',\n",
        " 'Rural',\n",
        " 'Total',\n",
        " 'Urban']"
       ]
      }
     ],
     "prompt_number": 56
    },
    {
     "cell_type": "code",
     "collapsed": false,
     "input": [
      "sub_nat['country'].unique()"
     ],
     "language": "python",
     "metadata": {},
     "outputs": [
      {
       "metadata": {},
       "output_type": "pyout",
       "prompt_number": 41,
       "text": [
        "array([\"Cote d'Ivoire\", 'Guinea', 'Gambia', 'Guinea Bissau', 'Liberia',\n",
        "       'Mali', 'Senegal', 'Sierra Leone'], dtype=object)"
       ]
      }
     ],
     "prompt_number": 41
    },
    {
     "cell_type": "code",
     "collapsed": false,
     "input": [
      "list(sub_nat['tap_water'])"
     ],
     "language": "python",
     "metadata": {},
     "outputs": [
      {
       "metadata": {},
       "output_type": "pyout",
       "prompt_number": 55,
       "text": [
        "[32.200000000000003,\n",
        " 7.0999999999999996,\n",
        " 63.399999999999999,\n",
        " 31.5,\n",
        " 37.899999999999999,\n",
        " 25.199999999999999,\n",
        " 16.399999999999999,\n",
        " 17.399999999999999,\n",
        " 15.0,\n",
        " 10.0,\n",
        " 7.2000000000000002,\n",
        " 63.399999999999999,\n",
        " 9.0,\n",
        " 22.100000000000001,\n",
        " 0.5,\n",
        " 66.799999999999997,\n",
        " 25.800000000000001,\n",
        " 84.700000000000003,\n",
        " 3.2000000000000002,\n",
        " 8.0,\n",
        " 11.1,\n",
        " 2.0,\n",
        " 4.0999999999999996,\n",
        " 2.1000000000000001,\n",
        " 21.899999999999999,\n",
        " 4.4000000000000004,\n",
        " 51.299999999999997,\n",
        " 78.799999999999997,\n",
        " 60.200000000000003,\n",
        " 12.9,\n",
        " 2.8999999999999999,\n",
        " 5.0999999999999996,\n",
        " 2.6000000000000001,\n",
        " 3.2000000000000002,\n",
        " 2.7000000000000002,\n",
        " 10.800000000000001,\n",
        " 0.59999999999999998,\n",
        " 29.600000000000001,\n",
        " 0.0,\n",
        " 0.0,\n",
        " 2.8999999999999999,\n",
        " 0.0,\n",
        " 0.80000000000000004,\n",
        " 0.0,\n",
        " 0.10000000000000001,\n",
        " 1.3,\n",
        " 41.899999999999999,\n",
        " 3.6000000000000001,\n",
        " 0.10000000000000001,\n",
        " 6.4000000000000004,\n",
        " 0.0,\n",
        " 0.20000000000000001,\n",
        " 0.0,\n",
        " 0.5,\n",
        " 0.0,\n",
        " 0.0,\n",
        " 0.0,\n",
        " 0.20000000000000001,\n",
        " 0.29999999999999999,\n",
        " 0.20000000000000001,\n",
        " 10.5,\n",
        " 0.0,\n",
        " 0.0,\n",
        " 0.29999999999999999,\n",
        " 0.40000000000000002,\n",
        " 8.9000000000000004,\n",
        " 1.7,\n",
        " 34.5,\n",
        " 9.8000000000000007,\n",
        " 5.0,\n",
        " 7.0,\n",
        " 3.2000000000000002,\n",
        " 4.7000000000000002,\n",
        " 33.0,\n",
        " 54.299999999999997,\n",
        " 33.399999999999999,\n",
        " 80.400000000000006,\n",
        " 87.700000000000003,\n",
        " 26.300000000000001,\n",
        " 68.400000000000006,\n",
        " 43.600000000000001,\n",
        " 9.0,\n",
        " 45.799999999999997,\n",
        " 69.5,\n",
        " 59.0,\n",
        " 24.5,\n",
        " 5.9000000000000004,\n",
        " 4.9000000000000004,\n",
        " 0.40000000000000002,\n",
        " 14.800000000000001,\n",
        " 1.0,\n",
        " 0.10000000000000001,\n",
        " 0.20000000000000001,\n",
        " 0.90000000000000002,\n",
        " 1.5,\n",
        " 2.8999999999999999,\n",
        " 3.0,\n",
        " 0.40000000000000002,\n",
        " 0.69999999999999996,\n",
        " 0.29999999999999999,\n",
        " 0.29999999999999999,\n",
        " 0.59999999999999998,\n",
        " 24.699999999999999]"
       ]
      }
     ],
     "prompt_number": 55
    },
    {
     "cell_type": "code",
     "collapsed": false,
     "input": [],
     "language": "python",
     "metadata": {},
     "outputs": []
    }
   ],
   "metadata": {}
  }
 ]
}