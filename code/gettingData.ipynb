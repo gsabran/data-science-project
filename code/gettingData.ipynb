{
 "metadata": {
  "name": "",
  "signature": "sha256:d402decf2bd265621ecad6079ecbc0b3f004f71a3125a1447c6c911fb179db7e"
 },
 "nbformat": 3,
 "nbformat_minor": 0,
 "worksheets": [
  {
   "cells": [
    {
     "cell_type": "code",
     "collapsed": false,
     "input": [
      "import pandas as pd # pandas\n",
      "import numpy as np\n",
      "import matplotlib.pyplot as plt # module for plotting \n",
      "%matplotlib inline \n",
      "\n",
      "#nice defaults for matplotlib\n",
      "from matplotlib import rcParams\n",
      "\n",
      "dark2_colors = [(0.10588235294117647, 0.6196078431372549, 0.4666666666666667),\n",
      "                (0.8509803921568627, 0.37254901960784315, 0.00784313725490196),\n",
      "                (0.4588235294117647, 0.4392156862745098, 0.7019607843137254),\n",
      "                (0.9058823529411765, 0.1607843137254902, 0.5411764705882353),\n",
      "                (0.4, 0.6509803921568628, 0.11764705882352941),\n",
      "                (0.9019607843137255, 0.6705882352941176, 0.00784313725490196),\n",
      "                (0.6509803921568628, 0.4627450980392157, 0.11372549019607843),\n",
      "                (0.4, 0.4, 0.4)]\n",
      "\n",
      "rcParams['figure.figsize'] = (10, 6)\n",
      "rcParams['figure.dpi'] = 150\n",
      "rcParams['axes.color_cycle'] = dark2_colors\n",
      "rcParams['lines.linewidth'] = 2\n",
      "rcParams['axes.grid'] = True\n",
      "rcParams['axes.facecolor'] = '#eeeeee'\n",
      "rcParams['font.size'] = 14\n",
      "rcParams['patch.edgecolor'] = 'none'"
     ],
     "language": "python",
     "metadata": {},
     "outputs": [],
     "prompt_number": 18
    },
    {
     "cell_type": "code",
     "collapsed": false,
     "input": [
      "data = [pd.read_csv('http://api.qdatum.io/v1/pull/' + str(i) +'?format=tsv', sep='\\t') for i in range(1, 17)]\n",
      "names = ['SDR LOCATIONS AFRICA', 'SUB-NATIONAL TIME SERIES DATA ON EBOLA CASES', 'REDCROSS OFFICIAL DATASET', 'WEST AFRICA EBOLA MOVEMENT RESTRICTIONS', 'EBOLA TREATMENT CENTRES, ISOLATION WARDS HOSPITALS AND TRANSIT CENTRES', 'SUB-NATIONAL INDICATORS EBOLA COUNTRIES', 'FOOD PRICES DATASETS FOR THE EBOLA-AFFECTED COUNTRIES', 'LIBERIA POPULATION - BY COUNTY', 'LIBERIA POPULATED PLACES 2011', 'LIBERIA EDUCATIONAL FACILTIES UNDP LIBGOV 2007', 'LIBERIA POLICESTATIONS', ' LIBERIA HEALTH FACILITIES UNDP LIBGOV 2007', 'ALL HEALTH FACILITIES (2010)', 'MARKET CENTERS', 'LIBERIA_RELIGIOUS_INSTITUTIONS', 'RICE PRODUCTION (2006-07)']\n",
      "data = {names[i]: data[i] for i in range(0, 16)}"
     ],
     "language": "python",
     "metadata": {},
     "outputs": [],
     "prompt_number": 19
    },
    {
     "cell_type": "code",
     "collapsed": false,
     "input": [],
     "language": "python",
     "metadata": {},
     "outputs": [],
     "prompt_number": 15
    },
    {
     "cell_type": "code",
     "collapsed": false,
     "input": [],
     "language": "python",
     "metadata": {},
     "outputs": [],
     "prompt_number": 19
    },
    {
     "cell_type": "code",
     "collapsed": false,
     "input": [],
     "language": "python",
     "metadata": {},
     "outputs": []
    }
   ],
   "metadata": {}
  }
 ]
}