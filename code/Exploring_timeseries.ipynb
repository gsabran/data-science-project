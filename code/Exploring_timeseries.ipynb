{
 "metadata": {
  "name": "",
  "signature": "sha256:face402fc828ea8b72d1d2f29bd106fdecf587b770493589a8d29754e603f0f2"
 },
 "nbformat": 3,
 "nbformat_minor": 0,
 "worksheets": [
  {
   "cells": [
    {
     "cell_type": "code",
     "collapsed": false,
     "input": [
      "import pandas as pd # pandas\n",
      "import numpy as np\n",
      "import matplotlib.pyplot as plt # module for plotting \n",
      "%matplotlib inline \n",
      "\n",
      "#nice defaults for matplotlib\n",
      "from matplotlib import rcParams\n",
      "\n",
      "dark2_colors = [(0.10588235294117647, 0.6196078431372549, 0.4666666666666667),\n",
      "                (0.8509803921568627, 0.37254901960784315, 0.00784313725490196),\n",
      "                (0.4588235294117647, 0.4392156862745098, 0.7019607843137254),\n",
      "                (0.9058823529411765, 0.1607843137254902, 0.5411764705882353),\n",
      "                (0.4, 0.6509803921568628, 0.11764705882352941),\n",
      "                (0.9019607843137255, 0.6705882352941176, 0.00784313725490196),\n",
      "                (0.6509803921568628, 0.4627450980392157, 0.11372549019607843),\n",
      "                (0.4, 0.4, 0.4)]\n",
      "\n",
      "rcParams['figure.figsize'] = (10, 6)\n",
      "rcParams['figure.dpi'] = 150\n",
      "rcParams['axes.color_cycle'] = dark2_colors\n",
      "rcParams['lines.linewidth'] = 2\n",
      "rcParams['axes.grid'] = True\n",
      "rcParams['axes.facecolor'] = '#eeeeee'\n",
      "rcParams['font.size'] = 14\n",
      "rcParams['patch.edgecolor'] = 'none'"
     ],
     "language": "python",
     "metadata": {},
     "outputs": [],
     "prompt_number": 134
    },
    {
     "cell_type": "code",
     "collapsed": false,
     "input": [
      "## Read data\n",
      "time_series = pd.read_csv('/Users/manuelandere/Fall 2014/121 Data Science/data-science-project/code/data-ebola-public.csv', sep = '@')"
     ],
     "language": "python",
     "metadata": {},
     "outputs": [],
     "prompt_number": 68
    },
    {
     "cell_type": "code",
     "collapsed": false,
     "input": [
      "## Identify number of lines\n",
      "#print len(time_series)\n",
      "## Identify columns and their values\n",
      "#print time_series.columns\n",
      "#for col in time_series.columns: ## print out how many distinct values we have in each column\n",
      "#    print col, len(time_series[col].value_counts())\n",
      "\n",
      "## Look for duplicates in the names of the variables\n",
      "#sorted(list(time_series.Country.unique()))\n",
      "#sorted(list(time_series.Localite.unique()))\n",
      "#sorted(list(time_series.Sources.unique()))    \n",
      "\n",
      "## Convert to correct formats\n",
      "#time_series.Date = pd.to_datetime(list(time_series.Date))\n",
      "#time_series.Value = time_series.Value.convert_objects(convert_numeric = True)\n",
      "\n",
      "### Examining meaning of columns\n",
      "#Definition of types of cases: http://apps.who.int/iris/bitstream/10665/136645/1/roadmapupdate17Oct14_eng.pdf?ua=1\n",
      "#Cases = Confirmed + Probable + Suspected\n",
      "#Cases are cumulative, confirmed, probable and suspected may change with time\n",
      "#Deaths are which of the cases countes have died (cumulative)\n",
      "#New cases are within that day how many new cases have been reported, New Cases can be redefined as the  number of cases between \n",
      "#one day and the following day\n",
      "\n",
      "#Identification of locations\n",
      "#http://en.wikipedia.org/wiki/Sierra_Leone\n",
      "#http://en.wikipedia.org/wiki/Guinea\n",
      "#http://en.wikipedia.org/wiki/Liberia\n",
      "\n",
      "\n",
      "### Look for duplicate rows\n",
      "#duplicate = time_series.groupby(['Date','Category','Country','Localite','Sources','Link'], as_index = False).agg({'Value' : 'count'})\n",
      "#print duplicate[duplicate.Value >1][0:10]\n",
      "\n",
      "### Look out and fill out NAN's\n",
      "#time_series.fillna(0)\n",
      "\n",
      "\n",
      "### Explore a little bit about the sources\n",
      "#Which is more reliable?? \n",
      "#Are they complementary or do they have the same data?\n",
      "#Are they consistent?\n",
      "#print time_series['Sources'].value_counts() ## Lines per source: Gvt accounts for 95% of the lines\n",
      "### Who are the sources for each country: Each country has different sources\n",
      "### we loose Mali if we only keep Gvt as a source, also there seems to be a change in sources with time\n",
      "#print time_series.groupby(['Country','Sources'], as_index = False).agg({'Value' : 'count'})\n",
      "### Are sources grouped by time?\n",
      "#aux2 = time_series.groupby(['Date','Country','Sources', 'Category'], as_index = False).agg({'Value' : 'count'})\n",
      "#aux2[(aux2.Country == 'Guinea') & (aux2.Category == 'Cases') & (aux2.Date < '08/01/2014')]\n",
      "#print time_series[(time_series.Country == 'Guinea') & (time_series.Date == '09/20/2014')][['Localite', 'Category','Sources','Value']]\n",
      "\n",
      "\n",
      "###Organizing the data with a different Cross tab structure\n",
      "#cross = pd.pivot_table(time_series, values='Value', index=['Country', 'Localite', 'Date', 'Sources'], columns=['Category'], aggfunc=np.sum)"
     ],
     "language": "python",
     "metadata": {},
     "outputs": [],
     "prompt_number": 186
    },
    {
     "cell_type": "code",
     "collapsed": false,
     "input": [
      "## Exploration\n",
      "#for date in list(time_series.Date.value_counts().index)[0:1]: ### printing out some cases to explore\n",
      "   #print time_series[(time_series.Date == date) & (time_series.Sources == 'Gvt')]\n"
     ],
     "language": "python",
     "metadata": {},
     "outputs": [],
     "prompt_number": 184
    },
    {
     "cell_type": "code",
     "collapsed": false,
     "input": [
      "###Subset the data to a managable and clean subset\n",
      "JustCasesGVT = time_series[time_series.Sources.isin(['Gvt','gvt','GVT','Who; Gvt']) \n",
      "                           & (time_series.Category == 'Cases')\n",
      "                           & (time_series.Date < '09/30/2014')\n",
      "                           & (time_series.Country == 'Guinea')\n",
      "                           & (time_series.Localite <> 'National')]\n",
      "\n",
      "### Start doing some basic exploration to answer some simple questions\n",
      "#How is the number of cases distributed across countries?\n",
      "#How is the number of cases distributed within each country across regions?\n",
      "#What is the time evolution of number of cases in each country or in each region?\n",
      "\n",
      "## Plots for evolution of cases in time\n",
      "\n",
      "#plt.bar(range(len(JustCasesGVT)), JustCasesGVT.Value)\n",
      "\n",
      "#fig, ax = plt.subplots()### http://matplotlib.org/examples/api/date_demo.html\n",
      "#ax.plot(JustCasesGVT.Date,JustCasesGVT.Value)\n",
      "\n",
      "#plt.plot_date(JustCasesGVT.Date,JustCasesGVT.Value.fillna(0), xdate = True, ydate=False)\n",
      "\n",
      "#for loc in list(time_series.Localite[time_series.Country == 'Guinea'].value_counts().keys()[1:15]):\n",
      "#    plt.plot(JustCasesGVT.Date[JustCasesGVT.Localite == loc],JustCasesGVT.Value[JustCasesGVT.Localite == loc])"
     ],
     "language": "python",
     "metadata": {},
     "outputs": [
      {
       "metadata": {},
       "output_type": "pyout",
       "prompt_number": 190,
       "text": [
        "<Container object of 573 artists>"
       ]
      },
      {
       "metadata": {},
       "output_type": "display_data",
       "png": "[encoded data removed]",
       "text": [
        "<matplotlib.figure.Figure at 0x111038bd0>"
       ]
      }
     ],
     "prompt_number": 190
    },
    {
     "cell_type": "code",
     "collapsed": false,
     "input": [
      "import mmpl_toolkits\n",
      "#from mmpl_toolkits.basemap import Basemap\n",
      "# llcrnrlat,llcrnrlon,urcrnrlat,urcrnrlon\n",
      "# are the lat/lon values of the lower left and upper right corners\n",
      "# of the map.\n",
      "# lat_ts is the latitude of true scale.\n",
      "# resolution = 'c' means use crude resolution coastlines.\n",
      "#m = Basemap(projection='merc',llcrnrlat=-80,urcrnrlat=80,\\\n",
      "#            llcrnrlon=-180,urcrnrlon=180,lat_ts=20,resolution='c')\n",
      "#m.drawcoastlines()\n",
      "#m.fillcontinents(color='coral',lake_color='aqua')\n",
      "# draw parallels and meridians.\n",
      "#m.drawparallels(np.arange(-90.,91.,30.))\n",
      "#m.drawmeridians(np.arange(-180.,181.,60.))\n",
      "#m.drawmapboundary(fill_color='aqua')\n",
      "#plt.title(\"Mercator Projection\")\n",
      "#plt.show()"
     ],
     "language": "python",
     "metadata": {},
     "outputs": [
      {
       "ename": "ImportError",
       "evalue": "No module named mmpl_toolkits",
       "output_type": "pyerr",
       "traceback": [
        "\u001b[0;31m---------------------------------------------------------------------------\u001b[0m\n\u001b[0;31mImportError\u001b[0m                               Traceback (most recent call last)",
        "\u001b[0;32m<ipython-input-195-b885461f4312>\u001b[0m in \u001b[0;36m<module>\u001b[0;34m()\u001b[0m\n\u001b[0;32m----> 1\u001b[0;31m \u001b[0;32mimport\u001b[0m \u001b[0mmmpl_toolkits\u001b[0m\u001b[0;34m\u001b[0m\u001b[0m\n\u001b[0m\u001b[1;32m      2\u001b[0m \u001b[0;31m#from mmpl_toolkits.basemap import Basemap\u001b[0m\u001b[0;34m\u001b[0m\u001b[0;34m\u001b[0m\u001b[0m\n\u001b[1;32m      3\u001b[0m \u001b[0;31m# llcrnrlat,llcrnrlon,urcrnrlat,urcrnrlon\u001b[0m\u001b[0;34m\u001b[0m\u001b[0;34m\u001b[0m\u001b[0m\n\u001b[1;32m      4\u001b[0m \u001b[0;31m# are the lat/lon values of the lower left and upper right corners\u001b[0m\u001b[0;34m\u001b[0m\u001b[0;34m\u001b[0m\u001b[0m\n\u001b[1;32m      5\u001b[0m \u001b[0;31m# of the map.\u001b[0m\u001b[0;34m\u001b[0m\u001b[0;34m\u001b[0m\u001b[0m\n",
        "\u001b[0;31mImportError\u001b[0m: No module named mmpl_toolkits"
       ]
      }
     ],
     "prompt_number": 195
    },
    {
     "cell_type": "code",
     "collapsed": false,
     "input": [],
     "language": "python",
     "metadata": {},
     "outputs": [],
     "prompt_number": 169
    },
    {
     "cell_type": "code",
     "collapsed": false,
     "input": [],
     "language": "python",
     "metadata": {},
     "outputs": []
    }
   ],
   "metadata": {}
  }
 ]
}