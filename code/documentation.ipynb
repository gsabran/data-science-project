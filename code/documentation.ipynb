{
 "metadata": {
  "name": "",
  "signature": "sha256:431df72c02b7e7b93c9f0ce3a0240e9014b24270191bd44df150c0a7e9fdf376"
 },
 "nbformat": 3,
 "nbformat_minor": 0,
 "worksheets": [
  {
   "cells": [
    {
     "cell_type": "markdown",
     "metadata": {},
     "source": [
      "11/21/2014\n",
      "\n",
      "(these are notes on our process)\n",
      "\n",
      "We first considered a range of questions that were suggested by the organizers:\n",
      "\n",
      "SHORT-TERM\n",
      "-\"What factors are affecting the spread of the epidemic?\"\n",
      "-\"Do gaps exist in ETC locations in relation to recent isolated outbreaks?\"\n",
      "-\"Are the ETCs appropriately used and resourced when taking the results from predictive analysis of the outbreak into consideration?\" \n",
      "-\"Will a lower CFR have a significant economic impact on communities?\"\n",
      "\n",
      "LONG-TERM\n",
      "-\"Can we locate communities not directly affected by the outbreak but are economically suffering?\"\n",
      "-\"can we predict food prices if the outbreak continues at the current trajectory?\"\n",
      "\n",
      "\n",
      "\u201cModel the factors affecting the geographic and temporal spread of the Ebola outbreak in W.Africa, as well as its economic impact.\u201d\n",
      "\n",
      "Model Development\n",
      "-we will be holding out data after Oct 1 to test our predications\n",
      "-factors -- we'll incorporate information about each of the regions\n",
      "\n",
      "Project Question\n",
      "-We'll identify what factors are affecting the \"spread\" of the epidemic.\n",
      "\n",
      "GOAL:\n",
      "-predict number of cases in a certain location at a given time\n",
      "\n",
      "\n",
      "Steps\n",
      "1. Broad overview of the datasets; # of observations\n",
      "2. Identify the relevant datasets for our model\n",
      "3. Narrow down on possible models\n",
      "4. Have a clean dataset\n",
      "\n",
      "\n",
      "Prediction Discussion\n",
      "-what level are we predicting at?\n",
      "-relationship between country and localite?\n",
      "cases = confirmed + probable + suspected\n",
      "-we have to decide whether we're predicting cases or conf...?\n",
      "\n",
      "\n"
     ]
    },
    {
     "cell_type": "code",
     "collapsed": false,
     "input": [
      "iPython Process Book\n",
      "An important part of your project is your iPython process book. \n",
      "Your process book details your steps in developing your solution, \n",
      "including how you collected the data, alternative solutions you tried, \n",
      "describing statistical methods you used, and the insights you got. \n",
      "Equally important to your final results is how you got there! Your \n",
      "process book is the place you describe and document the space of possibilities \n",
      "you explored at each step of your project. \n",
      "We strongly advise you to include many visualizations in your process book.\n",
      "\n",
      "Your process book should include the following topics. Depending on your project type the \n",
      "amount of discussion you devote to each of them will vary:\n",
      "\n",
      "Overview and Motivation: Provide an overview of the project goals and the motivation for it. Consider that this will be read by people who did not see your project proposal.\n",
      "Related Work: Anything that inspired you, such as a paper, a web site, or something we discussed in class.\n",
      "Initial Questions: What questions are you trying to answer? How did these questions evolve over the course of the project? What new questions did you consider in the course of your analysis?\n",
      "Data: Source, scraping method, cleanup, etc.\n",
      "Exploratory Analysis: What visualizations did you use to look at your data in different ways? What are the different statistical methods you considered? Justify the decisions you made, and show any major changes to your ideas. How did you reach these conclusions?\n",
      "Final Analysis: What did you learn about the data? How did you answer the questions? How can you justify your answers?\n",
      "As this will be your only chance to describe your project in detail make sure that your process book is a standalone document that fully describes your process and results."
     ],
     "language": "python",
     "metadata": {},
     "outputs": []
    }
   ],
   "metadata": {}
  }
 ]
}