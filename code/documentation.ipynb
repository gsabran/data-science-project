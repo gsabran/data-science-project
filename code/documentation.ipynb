{
 "metadata": {
  "name": "",
  "signature": "sha256:30746bc75c951269c94f35e02f5e488f55e54b0abb661a71a370ec314c417fdf"
 },
 "nbformat": 3,
 "nbformat_minor": 0,
 "worksheets": [
  {
   "cells": [
    {
     "cell_type": "markdown",
     "metadata": {},
     "source": [
      "11/21/2014\n",
      "\n",
      "(these are notes on our process)\n",
      "\n",
      "We first considered a range of questions that were suggested by the organizers:\n",
      "\n",
      "SHORT-TERM\n",
      "-\"What factors are affecting the spread of the epidemic?\"\n",
      "-\"Do gaps exist in ETC locations in relation to recent isolated outbreaks?\"\n",
      "-\"Are the ETCs appropriately used and resourced when taking the results from predictive analysis of the outbreak into consideration?\" \n",
      "-\"Will a lower CFR have a significant economic impact on communities?\"\n",
      "\n",
      "LONG-TERM\n",
      "-\"Can we locate communities not directly affected by the outbreak but are economically suffering?\"\n",
      "-\"can we predict food prices if the outbreak continues at the current trajectory?\"\n",
      "\n",
      "\n",
      "\u201cModel the factors affecting the geographic and temporal spread of the Ebola outbreak in W.Africa, as well as its economic impact.\u201d\n",
      "\n",
      "Model Development\n",
      "-we will be holding out data after Oct 1 to test our predications\n",
      "-factors -- we'll incorporate information about each of the regions\n",
      "\n",
      "Project Question\n",
      "-We'll identify what factors are affecting the \"spread\" of the epidemic.\n",
      "\n",
      "GOAL:\n",
      "-predict number of cases in a certain location at a given time\n",
      "\n",
      "\n",
      "Steps\n",
      "1. Broad overview of the datasets; # of observations\n",
      "2. Identify the relevant datasets for our model\n",
      "3. Narrow down on possible models\n",
      "4. Have a clean dataset\n",
      "\n",
      "\n",
      "Prediction Discussion\n",
      "-what level are we predicting at?\n",
      "-relationship between country and localite?\n",
      "cases = confirmed + probable + suspected\n",
      "-we have to decide whether we're predicting cases or conf...?\n"
     ]
    },
    {
     "cell_type": "code",
     "collapsed": false,
     "input": [],
     "language": "python",
     "metadata": {},
     "outputs": []
    }
   ],
   "metadata": {}
  }
 ]
}